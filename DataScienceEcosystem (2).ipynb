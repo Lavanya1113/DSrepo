{
 "cells": [
  {
   "cell_type": "markdown",
   "id": "b01d9adf",
   "metadata": {},
   "source": [
    "# Data Science Tools and Ecosystem"
   ]
  },
  {
   "cell_type": "markdown",
   "id": "8adf11a5",
   "metadata": {},
   "source": [
    "In this notebook, Data Science Tools and Ecosystem are summarized."
   ]
  },
  {
   "cell_type": "markdown",
   "id": "644b624b",
   "metadata": {},
   "source": [
    "Some of the popular languages that Data Scientists use are:\n",
    "1. R\n",
    "2. Python\n",
    "3. Java\n",
    "4. Scala\n",
    "5. SQL"
   ]
  },
  {
   "cell_type": "markdown",
   "id": "3717a581",
   "metadata": {},
   "source": [
    "**Objectives:**\n",
    "\n",
    "* Popular languages for datascience\n",
    "* libraries used by data scienctits\n",
    "* Development environment open source tools used in data science\n",
    "* Evaluting some expressions "
   ]
  },
  {
   "cell_type": "markdown",
   "id": "bf116890",
   "metadata": {},
   "source": [
    "Some of the commonly used libraries used by Data Scientists include:\n",
    "1. Pandas\n",
    "1. Numpy\n",
    "1. Matplotlib\n",
    "1. Scipy\n",
    "1. Scikit-Learn"
   ]
  },
  {
   "cell_type": "markdown",
   "id": "478257ab",
   "metadata": {},
   "source": [
    "| Data science tools |\n",
    "-----------------------------\n",
    "| jupyter notebook |\n",
    "| Rstudio|\n",
    "|KNIME|\n"
   ]
  },
  {
   "cell_type": "markdown",
   "id": "6a228320",
   "metadata": {},
   "source": [
    "### Below are a few examples of evaluating arithmetic expressions in Python."
   ]
  },
  {
   "cell_type": "code",
   "execution_count": 2,
   "id": "bbc5e89d",
   "metadata": {},
   "outputs": [
    {
     "name": "stdout",
     "output_type": "stream",
     "text": [
      "17\n"
     ]
    }
   ],
   "source": [
    "print((3*4)+5)\n",
    "# This a simple arithmetic expression to mutiply then add integers"
   ]
  },
  {
   "cell_type": "code",
   "execution_count": 4,
   "id": "56d9adca",
   "metadata": {},
   "outputs": [
    {
     "name": "stdout",
     "output_type": "stream",
     "text": [
      "200 min is  3.3333333333333335 hours\n"
     ]
    }
   ],
   "source": [
    "# This will convert 200 minutes to hours by diving by 60\n",
    "\n",
    "mins=200\n",
    "hrs=mins/60\n",
    "print('200 min is ',float(hrs),'hours')"
   ]
  },
  {
   "cell_type": "markdown",
   "id": "770745e0",
   "metadata": {},
   "source": [
    "## Author\n",
    "\n",
    "K.Lavanya"
   ]
  }
 ],
 "metadata": {
  "kernelspec": {
   "display_name": "Python 3 (ipykernel)",
   "language": "python",
   "name": "python3"
  },
  "language_info": {
   "codemirror_mode": {
    "name": "ipython",
    "version": 3
   },
   "file_extension": ".py",
   "mimetype": "text/x-python",
   "name": "python",
   "nbconvert_exporter": "python",
   "pygments_lexer": "ipython3",
   "version": "3.9.13"
  }
 },
 "nbformat": 4,
 "nbformat_minor": 5
}
